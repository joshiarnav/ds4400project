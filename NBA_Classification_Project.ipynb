{
  "cells": [
    {
      "cell_type": "markdown",
      "source": [
        "#NBA Player Classification"
      ],
      "metadata": {
        "id": "FpeKGQsDNy1h"
      },
      "id": "FpeKGQsDNy1h"
    },
    {
      "cell_type": "code",
      "execution_count": null,
      "id": "3ZN4qQaxhKgI",
      "metadata": {
        "id": "3ZN4qQaxhKgI"
      },
      "outputs": [],
      "source": [
        "import pandas as pd\n",
        "import numpy as np\n",
        "import matplotlib.pyplot as plt\n",
        "import seaborn as sns\n",
        "import requests\n"
      ]
    },
    {
      "cell_type": "markdown",
      "source": [
        "#CLUSTERING"
      ],
      "metadata": {
        "id": "TDlXQAi9NseU"
      },
      "id": "TDlXQAi9NseU"
    },
    {
      "cell_type": "markdown",
      "source": [
        "Importing the dataset."
      ],
      "metadata": {
        "id": "T3yRWQjNl-Uy"
      },
      "id": "T3yRWQjNl-Uy"
    },
    {
      "cell_type": "code",
      "execution_count": null,
      "id": "iQAkMgTAhKgL",
      "metadata": {
        "id": "iQAkMgTAhKgL"
      },
      "outputs": [],
      "source": [
        "seasondata = pd.read_csv(r\"https://raw.githubusercontent.com/joshiarnav/ds4400project/main/ML_Data_2021Season.csv\")"
      ]
    },
    {
      "cell_type": "code",
      "execution_count": null,
      "id": "RrW_KUqrhKgL",
      "metadata": {
        "colab": {
          "base_uri": "https://localhost:8080/",
          "height": 424
        },
        "id": "RrW_KUqrhKgL",
        "outputId": "27f2e49d-f764-4ae2-85e3-0f7c6b6b4b39"
      },
      "outputs": [
        {
          "output_type": "execute_result",
          "data": {
            "text/html": [
              "\n",
              "  <div id=\"df-f2c1a960-9b9a-40da-b296-08913c1b0be5\">\n",
              "    <div class=\"colab-df-container\">\n",
              "      <div>\n",
              "<style scoped>\n",
              "    .dataframe tbody tr th:only-of-type {\n",
              "        vertical-align: middle;\n",
              "    }\n",
              "\n",
              "    .dataframe tbody tr th {\n",
              "        vertical-align: top;\n",
              "    }\n",
              "\n",
              "    .dataframe thead th {\n",
              "        text-align: right;\n",
              "    }\n",
              "</style>\n",
              "<table border=\"1\" class=\"dataframe\">\n",
              "  <thead>\n",
              "    <tr style=\"text-align: right;\">\n",
              "      <th></th>\n",
              "      <th>GP</th>\n",
              "      <th>MPG</th>\n",
              "      <th>MIN%</th>\n",
              "      <th>USG%</th>\n",
              "      <th>TO%</th>\n",
              "      <th>FTA</th>\n",
              "      <th>FT%</th>\n",
              "      <th>2PA</th>\n",
              "      <th>2P%</th>\n",
              "      <th>3PA</th>\n",
              "      <th>3P%</th>\n",
              "      <th>eFG%</th>\n",
              "      <th>TS%</th>\n",
              "      <th>PPG</th>\n",
              "      <th>RPG</th>\n",
              "      <th>TRB%</th>\n",
              "      <th>APG</th>\n",
              "      <th>AST%</th>\n",
              "      <th>SPG</th>\n",
              "      <th>BPG</th>\n",
              "      <th>TOPG</th>\n",
              "      <th>VI</th>\n",
              "      <th>ORTG</th>\n",
              "      <th>DRTG</th>\n",
              "    </tr>\n",
              "  </thead>\n",
              "  <tbody>\n",
              "    <tr>\n",
              "      <th>0</th>\n",
              "      <td>78</td>\n",
              "      <td>34.0</td>\n",
              "      <td>70.8</td>\n",
              "      <td>25.5</td>\n",
              "      <td>7.2</td>\n",
              "      <td>158</td>\n",
              "      <td>0.816</td>\n",
              "      <td>802</td>\n",
              "      <td>0.516</td>\n",
              "      <td>599</td>\n",
              "      <td>0.402</td>\n",
              "      <td>0.554</td>\n",
              "      <td>0.571</td>\n",
              "      <td>21.5</td>\n",
              "      <td>3.8</td>\n",
              "      <td>6.0</td>\n",
              "      <td>2.4</td>\n",
              "      <td>11.0</td>\n",
              "      <td>1.06</td>\n",
              "      <td>0.60</td>\n",
              "      <td>1.46</td>\n",
              "      <td>6.8</td>\n",
              "      <td>109.9</td>\n",
              "      <td>109.3</td>\n",
              "    </tr>\n",
              "    <tr>\n",
              "      <th>1</th>\n",
              "      <td>25</td>\n",
              "      <td>29.4</td>\n",
              "      <td>61.3</td>\n",
              "      <td>23.9</td>\n",
              "      <td>16.5</td>\n",
              "      <td>105</td>\n",
              "      <td>0.629</td>\n",
              "      <td>181</td>\n",
              "      <td>0.475</td>\n",
              "      <td>112</td>\n",
              "      <td>0.375</td>\n",
              "      <td>0.509</td>\n",
              "      <td>0.537</td>\n",
              "      <td>14.6</td>\n",
              "      <td>6.6</td>\n",
              "      <td>11.7</td>\n",
              "      <td>4.2</td>\n",
              "      <td>23.0</td>\n",
              "      <td>0.64</td>\n",
              "      <td>0.80</td>\n",
              "      <td>2.68</td>\n",
              "      <td>10.1</td>\n",
              "      <td>102.8</td>\n",
              "      <td>109.9</td>\n",
              "    </tr>\n",
              "    <tr>\n",
              "      <th>2</th>\n",
              "      <td>66</td>\n",
              "      <td>17.8</td>\n",
              "      <td>37.1</td>\n",
              "      <td>19.5</td>\n",
              "      <td>12.3</td>\n",
              "      <td>83</td>\n",
              "      <td>0.819</td>\n",
              "      <td>254</td>\n",
              "      <td>0.406</td>\n",
              "      <td>182</td>\n",
              "      <td>0.368</td>\n",
              "      <td>0.467</td>\n",
              "      <td>0.503</td>\n",
              "      <td>7.2</td>\n",
              "      <td>1.3</td>\n",
              "      <td>4.1</td>\n",
              "      <td>1.9</td>\n",
              "      <td>14.1</td>\n",
              "      <td>0.70</td>\n",
              "      <td>0.20</td>\n",
              "      <td>1.00</td>\n",
              "      <td>5.9</td>\n",
              "      <td>98.6</td>\n",
              "      <td>110.7</td>\n",
              "    </tr>\n",
              "    <tr>\n",
              "      <th>3</th>\n",
              "      <td>46</td>\n",
              "      <td>14.5</td>\n",
              "      <td>30.3</td>\n",
              "      <td>13.7</td>\n",
              "      <td>10.8</td>\n",
              "      <td>28</td>\n",
              "      <td>0.786</td>\n",
              "      <td>70</td>\n",
              "      <td>0.543</td>\n",
              "      <td>108</td>\n",
              "      <td>0.370</td>\n",
              "      <td>0.551</td>\n",
              "      <td>0.573</td>\n",
              "      <td>4.7</td>\n",
              "      <td>2.8</td>\n",
              "      <td>10.6</td>\n",
              "      <td>0.5</td>\n",
              "      <td>4.6</td>\n",
              "      <td>0.33</td>\n",
              "      <td>0.20</td>\n",
              "      <td>0.50</td>\n",
              "      <td>5.2</td>\n",
              "      <td>112.3</td>\n",
              "      <td>102.6</td>\n",
              "    </tr>\n",
              "    <tr>\n",
              "      <th>4</th>\n",
              "      <td>24</td>\n",
              "      <td>14.8</td>\n",
              "      <td>30.8</td>\n",
              "      <td>19.0</td>\n",
              "      <td>12.6</td>\n",
              "      <td>37</td>\n",
              "      <td>0.757</td>\n",
              "      <td>73</td>\n",
              "      <td>0.534</td>\n",
              "      <td>43</td>\n",
              "      <td>0.419</td>\n",
              "      <td>0.569</td>\n",
              "      <td>0.605</td>\n",
              "      <td>6.7</td>\n",
              "      <td>2.6</td>\n",
              "      <td>9.9</td>\n",
              "      <td>0.8</td>\n",
              "      <td>7.3</td>\n",
              "      <td>0.42</td>\n",
              "      <td>0.38</td>\n",
              "      <td>0.79</td>\n",
              "      <td>6.5</td>\n",
              "      <td>110.4</td>\n",
              "      <td>104.1</td>\n",
              "    </tr>\n",
              "    <tr>\n",
              "      <th>...</th>\n",
              "      <td>...</td>\n",
              "      <td>...</td>\n",
              "      <td>...</td>\n",
              "      <td>...</td>\n",
              "      <td>...</td>\n",
              "      <td>...</td>\n",
              "      <td>...</td>\n",
              "      <td>...</td>\n",
              "      <td>...</td>\n",
              "      <td>...</td>\n",
              "      <td>...</td>\n",
              "      <td>...</td>\n",
              "      <td>...</td>\n",
              "      <td>...</td>\n",
              "      <td>...</td>\n",
              "      <td>...</td>\n",
              "      <td>...</td>\n",
              "      <td>...</td>\n",
              "      <td>...</td>\n",
              "      <td>...</td>\n",
              "      <td>...</td>\n",
              "      <td>...</td>\n",
              "      <td>...</td>\n",
              "      <td>...</td>\n",
              "    </tr>\n",
              "    <tr>\n",
              "      <th>472</th>\n",
              "      <td>59</td>\n",
              "      <td>18.4</td>\n",
              "      <td>38.3</td>\n",
              "      <td>14.3</td>\n",
              "      <td>12.3</td>\n",
              "      <td>53</td>\n",
              "      <td>0.642</td>\n",
              "      <td>234</td>\n",
              "      <td>0.620</td>\n",
              "      <td>65</td>\n",
              "      <td>0.338</td>\n",
              "      <td>0.595</td>\n",
              "      <td>0.605</td>\n",
              "      <td>6.6</td>\n",
              "      <td>4.3</td>\n",
              "      <td>12.5</td>\n",
              "      <td>1.3</td>\n",
              "      <td>9.4</td>\n",
              "      <td>0.75</td>\n",
              "      <td>0.56</td>\n",
              "      <td>0.76</td>\n",
              "      <td>7.2</td>\n",
              "      <td>117.9</td>\n",
              "      <td>102.6</td>\n",
              "    </tr>\n",
              "    <tr>\n",
              "      <th>473</th>\n",
              "      <td>8</td>\n",
              "      <td>12.1</td>\n",
              "      <td>25.1</td>\n",
              "      <td>17.9</td>\n",
              "      <td>0.0</td>\n",
              "      <td>7</td>\n",
              "      <td>1.000</td>\n",
              "      <td>17</td>\n",
              "      <td>0.353</td>\n",
              "      <td>19</td>\n",
              "      <td>0.316</td>\n",
              "      <td>0.417</td>\n",
              "      <td>0.473</td>\n",
              "      <td>4.6</td>\n",
              "      <td>1.5</td>\n",
              "      <td>7.0</td>\n",
              "      <td>2.1</td>\n",
              "      <td>23.6</td>\n",
              "      <td>0.50</td>\n",
              "      <td>0.25</td>\n",
              "      <td>0.00</td>\n",
              "      <td>8.1</td>\n",
              "      <td>121.7</td>\n",
              "      <td>106.8</td>\n",
              "    </tr>\n",
              "    <tr>\n",
              "      <th>474</th>\n",
              "      <td>50</td>\n",
              "      <td>14.5</td>\n",
              "      <td>30.1</td>\n",
              "      <td>12.7</td>\n",
              "      <td>9.0</td>\n",
              "      <td>29</td>\n",
              "      <td>0.828</td>\n",
              "      <td>90</td>\n",
              "      <td>0.478</td>\n",
              "      <td>90</td>\n",
              "      <td>0.400</td>\n",
              "      <td>0.539</td>\n",
              "      <td>0.565</td>\n",
              "      <td>4.4</td>\n",
              "      <td>3.2</td>\n",
              "      <td>12.0</td>\n",
              "      <td>0.8</td>\n",
              "      <td>7.7</td>\n",
              "      <td>0.52</td>\n",
              "      <td>0.40</td>\n",
              "      <td>0.38</td>\n",
              "      <td>6.2</td>\n",
              "      <td>116.4</td>\n",
              "      <td>107.6</td>\n",
              "    </tr>\n",
              "    <tr>\n",
              "      <th>475</th>\n",
              "      <td>58</td>\n",
              "      <td>35.1</td>\n",
              "      <td>73.0</td>\n",
              "      <td>31.1</td>\n",
              "      <td>13.9</td>\n",
              "      <td>298</td>\n",
              "      <td>0.849</td>\n",
              "      <td>646</td>\n",
              "      <td>0.571</td>\n",
              "      <td>477</td>\n",
              "      <td>0.419</td>\n",
              "      <td>0.596</td>\n",
              "      <td>0.634</td>\n",
              "      <td>27.4</td>\n",
              "      <td>5.0</td>\n",
              "      <td>7.9</td>\n",
              "      <td>4.9</td>\n",
              "      <td>23.4</td>\n",
              "      <td>0.79</td>\n",
              "      <td>0.47</td>\n",
              "      <td>3.50</td>\n",
              "      <td>10.0</td>\n",
              "      <td>114.7</td>\n",
              "      <td>109.5</td>\n",
              "    </tr>\n",
              "    <tr>\n",
              "      <th>476</th>\n",
              "      <td>61</td>\n",
              "      <td>33.2</td>\n",
              "      <td>69.2</td>\n",
              "      <td>29.8</td>\n",
              "      <td>11.6</td>\n",
              "      <td>529</td>\n",
              "      <td>0.698</td>\n",
              "      <td>1003</td>\n",
              "      <td>0.622</td>\n",
              "      <td>34</td>\n",
              "      <td>0.294</td>\n",
              "      <td>0.616</td>\n",
              "      <td>0.649</td>\n",
              "      <td>27.0</td>\n",
              "      <td>7.2</td>\n",
              "      <td>11.8</td>\n",
              "      <td>3.7</td>\n",
              "      <td>19.8</td>\n",
              "      <td>0.93</td>\n",
              "      <td>0.64</td>\n",
              "      <td>2.74</td>\n",
              "      <td>10.8</td>\n",
              "      <td>123.4</td>\n",
              "      <td>109.8</td>\n",
              "    </tr>\n",
              "  </tbody>\n",
              "</table>\n",
              "<p>477 rows × 24 columns</p>\n",
              "</div>\n",
              "      <button class=\"colab-df-convert\" onclick=\"convertToInteractive('df-f2c1a960-9b9a-40da-b296-08913c1b0be5')\"\n",
              "              title=\"Convert this dataframe to an interactive table.\"\n",
              "              style=\"display:none;\">\n",
              "        \n",
              "  <svg xmlns=\"http://www.w3.org/2000/svg\" height=\"24px\"viewBox=\"0 0 24 24\"\n",
              "       width=\"24px\">\n",
              "    <path d=\"M0 0h24v24H0V0z\" fill=\"none\"/>\n",
              "    <path d=\"M18.56 5.44l.94 2.06.94-2.06 2.06-.94-2.06-.94-.94-2.06-.94 2.06-2.06.94zm-11 1L8.5 8.5l.94-2.06 2.06-.94-2.06-.94L8.5 2.5l-.94 2.06-2.06.94zm10 10l.94 2.06.94-2.06 2.06-.94-2.06-.94-.94-2.06-.94 2.06-2.06.94z\"/><path d=\"M17.41 7.96l-1.37-1.37c-.4-.4-.92-.59-1.43-.59-.52 0-1.04.2-1.43.59L10.3 9.45l-7.72 7.72c-.78.78-.78 2.05 0 2.83L4 21.41c.39.39.9.59 1.41.59.51 0 1.02-.2 1.41-.59l7.78-7.78 2.81-2.81c.8-.78.8-2.07 0-2.86zM5.41 20L4 18.59l7.72-7.72 1.47 1.35L5.41 20z\"/>\n",
              "  </svg>\n",
              "      </button>\n",
              "      \n",
              "  <style>\n",
              "    .colab-df-container {\n",
              "      display:flex;\n",
              "      flex-wrap:wrap;\n",
              "      gap: 12px;\n",
              "    }\n",
              "\n",
              "    .colab-df-convert {\n",
              "      background-color: #E8F0FE;\n",
              "      border: none;\n",
              "      border-radius: 50%;\n",
              "      cursor: pointer;\n",
              "      display: none;\n",
              "      fill: #1967D2;\n",
              "      height: 32px;\n",
              "      padding: 0 0 0 0;\n",
              "      width: 32px;\n",
              "    }\n",
              "\n",
              "    .colab-df-convert:hover {\n",
              "      background-color: #E2EBFA;\n",
              "      box-shadow: 0px 1px 2px rgba(60, 64, 67, 0.3), 0px 1px 3px 1px rgba(60, 64, 67, 0.15);\n",
              "      fill: #174EA6;\n",
              "    }\n",
              "\n",
              "    [theme=dark] .colab-df-convert {\n",
              "      background-color: #3B4455;\n",
              "      fill: #D2E3FC;\n",
              "    }\n",
              "\n",
              "    [theme=dark] .colab-df-convert:hover {\n",
              "      background-color: #434B5C;\n",
              "      box-shadow: 0px 1px 3px 1px rgba(0, 0, 0, 0.15);\n",
              "      filter: drop-shadow(0px 1px 2px rgba(0, 0, 0, 0.3));\n",
              "      fill: #FFFFFF;\n",
              "    }\n",
              "  </style>\n",
              "\n",
              "      <script>\n",
              "        const buttonEl =\n",
              "          document.querySelector('#df-f2c1a960-9b9a-40da-b296-08913c1b0be5 button.colab-df-convert');\n",
              "        buttonEl.style.display =\n",
              "          google.colab.kernel.accessAllowed ? 'block' : 'none';\n",
              "\n",
              "        async function convertToInteractive(key) {\n",
              "          const element = document.querySelector('#df-f2c1a960-9b9a-40da-b296-08913c1b0be5');\n",
              "          const dataTable =\n",
              "            await google.colab.kernel.invokeFunction('convertToInteractive',\n",
              "                                                     [key], {});\n",
              "          if (!dataTable) return;\n",
              "\n",
              "          const docLinkHtml = 'Like what you see? Visit the ' +\n",
              "            '<a target=\"_blank\" href=https://colab.research.google.com/notebooks/data_table.ipynb>data table notebook</a>'\n",
              "            + ' to learn more about interactive tables.';\n",
              "          element.innerHTML = '';\n",
              "          dataTable['output_type'] = 'display_data';\n",
              "          await google.colab.output.renderOutput(dataTable, element);\n",
              "          const docLink = document.createElement('div');\n",
              "          docLink.innerHTML = docLinkHtml;\n",
              "          element.appendChild(docLink);\n",
              "        }\n",
              "      </script>\n",
              "    </div>\n",
              "  </div>\n",
              "  "
            ],
            "text/plain": [
              "     GP   MPG  MIN%  USG%   TO%  FTA  ...   SPG   BPG  TOPG    VI   ORTG   DRTG\n",
              "0    78  34.0  70.8  25.5   7.2  158  ...  1.06  0.60  1.46   6.8  109.9  109.3\n",
              "1    25  29.4  61.3  23.9  16.5  105  ...  0.64  0.80  2.68  10.1  102.8  109.9\n",
              "2    66  17.8  37.1  19.5  12.3   83  ...  0.70  0.20  1.00   5.9   98.6  110.7\n",
              "3    46  14.5  30.3  13.7  10.8   28  ...  0.33  0.20  0.50   5.2  112.3  102.6\n",
              "4    24  14.8  30.8  19.0  12.6   37  ...  0.42  0.38  0.79   6.5  110.4  104.1\n",
              "..   ..   ...   ...   ...   ...  ...  ...   ...   ...   ...   ...    ...    ...\n",
              "472  59  18.4  38.3  14.3  12.3   53  ...  0.75  0.56  0.76   7.2  117.9  102.6\n",
              "473   8  12.1  25.1  17.9   0.0    7  ...  0.50  0.25  0.00   8.1  121.7  106.8\n",
              "474  50  14.5  30.1  12.7   9.0   29  ...  0.52  0.40  0.38   6.2  116.4  107.6\n",
              "475  58  35.1  73.0  31.1  13.9  298  ...  0.79  0.47  3.50  10.0  114.7  109.5\n",
              "476  61  33.2  69.2  29.8  11.6  529  ...  0.93  0.64  2.74  10.8  123.4  109.8\n",
              "\n",
              "[477 rows x 24 columns]"
            ]
          },
          "metadata": {},
          "execution_count": 35
        }
      ],
      "source": [
        "seasondata\n",
        "data = seasondata._get_numeric_data().dropna(axis = 1)\n",
        "\n",
        "data"
      ]
    },
    {
      "cell_type": "markdown",
      "source": [
        "Groups the 477 players into 8 clusters (random_state = 40), and stores the labels of all the players into a variable."
      ],
      "metadata": {
        "id": "Fscom6WnmEoH"
      },
      "id": "Fscom6WnmEoH"
    },
    {
      "cell_type": "code",
      "execution_count": null,
      "id": "qjffydlbhKgM",
      "metadata": {
        "id": "qjffydlbhKgM",
        "scrolled": true
      },
      "outputs": [],
      "source": [
        "from sklearn.cluster import KMeans\n",
        "from sklearn.decomposition import PCA\n",
        "\n",
        "model = KMeans(n_clusters = 8, random_state = 40)\n",
        "\n",
        "model.fit(data)\n",
        "labels = model.labels_\n"
      ]
    },
    {
      "cell_type": "markdown",
      "source": [
        "PCA is done for dimensionality reduction. The data is reduced to 2 dimensions and is plotted and color coded based on what clsuter the player is in."
      ],
      "metadata": {
        "id": "vY2vMPo0moWX"
      },
      "id": "vY2vMPo0moWX"
    },
    {
      "cell_type": "code",
      "execution_count": null,
      "id": "VZjrJCThhKgM",
      "metadata": {
        "colab": {
          "base_uri": "https://localhost:8080/",
          "height": 265
        },
        "id": "VZjrJCThhKgM",
        "outputId": "4e0e15e0-96c5-4ef4-9db7-18c2b91d6d36"
      },
      "outputs": [
        {
          "output_type": "display_data",
          "data": {
            "image/png": "[encoded data removed]",
            "text/plain": [
              "<Figure size 432x288 with 1 Axes>"
            ]
          },
          "metadata": {
            "needs_background": "light"
          }
        }
      ],
      "source": [
        "Two_D_PCA = PCA(2)\n",
        "to_plot = Two_D_PCA.fit_transform(data)\n",
        "##plt.scatter(x=to_plot[:,0], y=to_plot[:,1], c=labels)\n",
        "\n",
        "cluster_labels = np.unique(labels)\n",
        "\n",
        "for cluster in cluster_labels:\n",
        "    plt.scatter(x = to_plot[labels == cluster, 0], y = to_plot[labels == cluster, 1], label = cluster)\n",
        "    \n",
        "plt.legend()\n",
        "plt.show()"
      ]
    },
    {
      "cell_type": "markdown",
      "source": [
        "The method get_player_cluster returns the cluster number that the given player is in. We mainly made this method to internally check if our clusters were accurate — to see if players were in the same or different cluster as other players we expected them to be."
      ],
      "metadata": {
        "id": "oYGjbDcfntZ4"
      },
      "id": "oYGjbDcfntZ4"
    },
    {
      "cell_type": "code",
      "execution_count": null,
      "id": "Jbn1fM2yhKgN",
      "metadata": {
        "id": "Jbn1fM2yhKgN"
      },
      "outputs": [],
      "source": [
        "def get_player_cluster(name):\n",
        "    for x in range(0,477):\n",
        "        if (seasondata.loc[x, 'FULL NAME'] == name):\n",
        "            return labels[x]\n",
        "    print(\"name not found\") \n",
        "\n"
      ]
    },
    {
      "cell_type": "markdown",
      "source": [
        "This method returns all the players in the given cluster number."
      ],
      "metadata": {
        "id": "BKGRT-HtolmY"
      },
      "id": "BKGRT-HtolmY"
    },
    {
      "cell_type": "code",
      "execution_count": null,
      "id": "We7xP6z4hKgN",
      "metadata": {
        "id": "We7xP6z4hKgN"
      },
      "outputs": [],
      "source": [
        "def get_players_in_cluster_n(num):\n",
        "    dudes = np.array([])\n",
        "    for x in range(0,477):\n",
        "        if (labels[x] == num):\n",
        "            dudes = np.append(dudes, seasondata.loc[x,'FULL NAME'])\n",
        "    return dudes\n",
        "    "
      ]
    },
    {
      "cell_type": "markdown",
      "source": [
        "This method returns the average statistics of the given cluster number."
      ],
      "metadata": {
        "id": "Jmh0ybI7okyu"
      },
      "id": "Jmh0ybI7okyu"
    },
    {
      "cell_type": "code",
      "execution_count": null,
      "id": "DVzuOPrLpDiJ",
      "metadata": {
        "id": "DVzuOPrLpDiJ"
      },
      "outputs": [],
      "source": [
        "def get_average_stats_for_cluster(num):\n",
        "    list_of_dudes = get_players_in_cluster_n(num)\n",
        "    list_of_row_titles = ['GP', 'MPG', 'MIN%', 'USG%', 'TO%', 'FTA', 'FT%', '2PA', '2P%', '3PA', '3P%', 'eFG%', 'TS%', 'PPG', 'RPG', 'TRB%', 'APG', 'AST%', 'SPG', 'BPG', 'TOPG', 'VI', 'ORTG', 'DRTG']\n",
        "    avg_stats = [0,0,0,0,0,0,0,0,0,0,0,0,0,0,0,0,0,0,0,0,0,0,0,0]\n",
        "    for dude in list_of_dudes:\n",
        "        for x in range(0,477):\n",
        "            if (dude == seasondata.loc[x,'FULL NAME']):\n",
        "                for i in range(0, len(list_of_row_titles)):\n",
        "                    avg_stats[i] = avg_stats[i] + seasondata.loc[x,list_of_row_titles[i]]\n",
        "                    \n",
        "    #printed_stats = [np.array([])]\n",
        "    #for i in range(0, len(list_of_row_titles)):\n",
        "    #    printed_stats = np.append(printed_stats, [list_of_row_titles[i], (avg_stats[i]/len(list_of_dudes))])\n",
        "    \n",
        "    printed_stats_2 = {}\n",
        "    for i in range(0, len(list_of_row_titles)):\n",
        "        printed_stats_2[list_of_row_titles[i]] = (avg_stats[i]/len(list_of_dudes))\n",
        "    return printed_stats_2"
      ]
    },
    {
      "cell_type": "code",
      "execution_count": null,
      "id": "W73i-47LpEPt",
      "metadata": {
        "id": "W73i-47LpEPt"
      },
      "outputs": [],
      "source": [
        "def get_average_stats_all_clusters():\n",
        "    all_stats = {}\n",
        "    for i in range (0, 8):\n",
        "        all_stats['Cluster ' + str(i)] = get_average_stats_for_cluster(i)\n",
        "    return all_stats"
      ]
    },
    {
      "cell_type": "markdown",
      "source": [
        "Cluster 0 Info:"
      ],
      "metadata": {
        "id": "wphOvaB6pkGs"
      },
      "id": "wphOvaB6pkGs"
    },
    {
      "cell_type": "code",
      "source": [
        "get_players_in_cluster_n(0)"
      ],
      "metadata": {
        "colab": {
          "base_uri": "https://localhost:8080/"
        },
        "id": "bysIMNbioxpw",
        "outputId": "7934fe17-71a8-4190-decf-48b8fd94fa2b"
      },
      "id": "bysIMNbioxpw",
      "execution_count": null,
      "outputs": [
        {
          "output_type": "execute_result",
          "data": {
            "text/plain": [
              "array(['Alex Len', 'Andre Drummond', 'Bismack Biyombo', 'Brandon Clarke',\n",
              "       'Bruce Brown', 'Cody Zeller', 'DeAndre Jordan', 'Delon Wright',\n",
              "       'Derrick Favors', 'Derrick Rose', 'Draymond Green', 'Drew Eubanks',\n",
              "       'Dwight Howard', 'Dwight Powell', 'Eric Paschall',\n",
              "       'Hamidou Diallo', 'Hassan Whiteside', 'Isaiah Roby',\n",
              "       'Isaiah Stewart', 'Ish Smith', 'Ivica Zubac', 'Jakob Poeltl',\n",
              "       'James Wiseman', 'Jarred Vanderbilt', 'Jarrett Allen',\n",
              "       'JaVale McGee', 'Jaxson Hayes', 'Jusuf Nurkic', 'Kenrich Williams',\n",
              "       'Kenyon Martin Jr.', 'Kevon Looney', 'Khem Birch', 'Lou Williams',\n",
              "       'Marvin Bagley III', 'Mason Plumlee', 'Michael Carter-Williams',\n",
              "       'Mitchell Robinson', 'Monte Morris', 'Moses Brown', 'Nerlens Noel',\n",
              "       'Patrick Williams', 'Paul Millsap', 'Precious Achiuwa',\n",
              "       'Raul Neto', 'Robert Williams III', 'Robin Lopez', 'Serge Ibaka',\n",
              "       'Steven Adams', 'T.J. McConnell', 'Talen Horton-Tucker',\n",
              "       'Terance Mann', 'Tristan Thompson', 'Tyrese Maxey', 'Tyus Jones',\n",
              "       'Wendell Carter Jr.', 'Willie Cauley-Stein', 'Willy Hernangomez',\n",
              "       'Xavier Tillman'], dtype='<U32')"
            ]
          },
          "metadata": {},
          "execution_count": 42
        }
      ]
    },
    {
      "cell_type": "code",
      "source": [
        "get_average_stats_for_cluster(0)"
      ],
      "metadata": {
        "colab": {
          "base_uri": "https://localhost:8080/"
        },
        "id": "byhNCyoCox1R",
        "outputId": "7e697e0e-6b5d-43d7-a8c5-a633cf37c99a"
      },
      "id": "byhNCyoCox1R",
      "execution_count": null,
      "outputs": [
        {
          "output_type": "execute_result",
          "data": {
            "text/plain": [
              "{'2P%': 0.5912586206896552,\n",
              " '2PA': 284.7931034482759,\n",
              " '3P%': 0.24315517241379309,\n",
              " '3PA': 49.741379310344826,\n",
              " 'APG': 2.003448275862069,\n",
              " 'AST%': 12.787931034482757,\n",
              " 'BPG': 0.79448275862069,\n",
              " 'DRTG': 107.53275862068966,\n",
              " 'FT%': 0.7055862068965518,\n",
              " 'FTA': 102.43103448275862,\n",
              " 'GP': 53.775862068965516,\n",
              " 'MIN%': 46.524137931034474,\n",
              " 'MPG': 22.334482758620684,\n",
              " 'ORTG': 120.6603448275862,\n",
              " 'PPG': 8.882758620689659,\n",
              " 'RPG': 5.894827586206898,\n",
              " 'SPG': 0.7244827586206894,\n",
              " 'TO%': 14.377586206896547,\n",
              " 'TOPG': 1.2317241379310344,\n",
              " 'TRB%': 14.993103448275864,\n",
              " 'TS%': 0.6082931034482759,\n",
              " 'USG%': 17.839655172413792,\n",
              " 'VI': 8.017241379310347,\n",
              " 'eFG%': 0.5840172413793102}"
            ]
          },
          "metadata": {},
          "execution_count": 43
        }
      ]
    },
    {
      "cell_type": "markdown",
      "source": [
        "Cluster 1 Info:"
      ],
      "metadata": {
        "id": "VLPIlzLOpneO"
      },
      "id": "VLPIlzLOpneO"
    },
    {
      "cell_type": "code",
      "source": [
        "get_players_in_cluster_n(1)"
      ],
      "metadata": {
        "colab": {
          "base_uri": "https://localhost:8080/"
        },
        "id": "GkPcohvuoyAb",
        "outputId": "bbff91b2-f93b-482f-cb3b-42a739f0e23f"
      },
      "id": "GkPcohvuoyAb",
      "execution_count": null,
      "outputs": [
        {
          "output_type": "execute_result",
          "data": {
            "text/plain": [
              "array(['Klay Thompson', 'Andrew Wiggins', 'Anthony Edwards',\n",
              "       'Bojan Bogdanovic', 'Brandon Ingram', 'Damian Lillard',\n",
              "       'Dillon Brooks', 'Donovan Mitchell', 'Jaylen Brown',\n",
              "       'Jayson Tatum', 'Jerami Grant', 'Jordan Clarkson',\n",
              "       'Karl-Anthony Towns', 'Khris Middleton', 'Kyrie Irving',\n",
              "       'Luka Doncic', 'Malcolm Brogdon', 'Paul George', 'RJ Barrett',\n",
              "       'Stephen Curry', 'Terry Rozier', 'Zach LaVine'], dtype='<U32')"
            ]
          },
          "metadata": {},
          "execution_count": 44
        }
      ]
    },
    {
      "cell_type": "code",
      "source": [
        "get_average_stats_for_cluster(1)"
      ],
      "metadata": {
        "colab": {
          "base_uri": "https://localhost:8080/"
        },
        "id": "U8iVSVafoyJB",
        "outputId": "030ad462-0afe-4ef3-c248-11c9ea7eb180"
      },
      "id": "U8iVSVafoyJB",
      "execution_count": null,
      "outputs": [
        {
          "output_type": "execute_result",
          "data": {
            "text/plain": [
              "{'2P%': 0.5138181818181818,\n",
              " '2PA': 652.2272727272727,\n",
              " '3P%': 0.3848181818181819,\n",
              " '3PA': 465.3181818181818,\n",
              " 'APG': 4.363636363636363,\n",
              " 'AST%': 21.08636363636364,\n",
              " 'BPG': 0.47272727272727283,\n",
              " 'DRTG': 108.6090909090909,\n",
              " 'FT%': 0.8405454545454546,\n",
              " 'FTA': 278.8636363636364,\n",
              " 'GP': 63.40909090909091,\n",
              " 'MIN%': 69.85000000000001,\n",
              " 'MPG': 33.53181818181818,\n",
              " 'ORTG': 112.5227272727273,\n",
              " 'PPG': 22.999999999999996,\n",
              " 'RPG': 5.35,\n",
              " 'SPG': 0.9877272727272726,\n",
              " 'TO%': 11.090909090909092,\n",
              " 'TOPG': 2.496363636363636,\n",
              " 'TRB%': 8.631818181818183,\n",
              " 'TS%': 0.5803636363636365,\n",
              " 'USG%': 28.472727272727273,\n",
              " 'VI': 9.477272727272727,\n",
              " 'eFG%': 0.5394545454545455}"
            ]
          },
          "metadata": {},
          "execution_count": 45
        }
      ]
    },
    {
      "cell_type": "markdown",
      "source": [
        "Cluster 2 Info:"
      ],
      "metadata": {
        "id": "O7MZ4mlDppe4"
      },
      "id": "O7MZ4mlDppe4"
    },
    {
      "cell_type": "code",
      "source": [
        "get_players_in_cluster_n(2)"
      ],
      "metadata": {
        "colab": {
          "base_uri": "https://localhost:8080/"
        },
        "id": "gzKwMHtcoyOv",
        "outputId": "bd578752-fe9f-47f5-c9ed-7a08f2c09721"
      },
      "id": "gzKwMHtcoyOv",
      "execution_count": null,
      "outputs": [
        {
          "output_type": "execute_result",
          "data": {
            "text/plain": [
              "array(['Aaron Gordon', 'Aaron Holiday', 'Al Horford',\n",
              "       'Aleksej Pokusevski', 'Alex Caruso', 'Andre Iguodala',\n",
              "       'Armoni Brooks', 'Aron Baynes', 'Blake Griffin', 'Brandon Goodwin',\n",
              "       'Caleb Martin', 'Cam Reddish', 'Cameron Payne', 'Chasson Randle',\n",
              "       'Chuma Okeke', 'Cody Martin', 'Cory Joseph', 'D.J. Augustin',\n",
              "       'Damion Lee', 'Damyean Dotson', 'Daniel Theis', 'Danuel House Jr.',\n",
              "       'Dario Saric', 'David Nwaba', \"De'Andre Hunter\",\n",
              "       \"De'Anthony Melton\", 'Dean Wade', \"DeAndre' Bembry\", 'Deni Avdija',\n",
              "       'Denzel Valentine', 'Derrick Jones Jr.', 'Devin Vassell',\n",
              "       'Edmond Sumner', 'Eric Gordon', 'Evan Fournier',\n",
              "       'Facundo Campazzo', 'Frank Jackson', 'Frank Kaminsky',\n",
              "       'Gabe Vincent', 'Garrett Temple', 'Garrison Mathews',\n",
              "       'Gary Harris', 'Goga Bitadze', 'Grant Williams', 'Jaden McDaniels',\n",
              "       'Jalen McDaniels', 'James Ennis III', 'JaMychal Green',\n",
              "       'Jaylen Nowell', 'Jeff Teague', 'Jeremy Lamb', 'Jevon Carter',\n",
              "       'JJ Redick', 'Jordan McLaughlin', 'Josh Hart', 'Josh Okogie',\n",
              "       'Juan Toscano-Anderson', 'Juancho Hernangomez', 'Justin Jackson',\n",
              "       'Justise Winslow', 'Kelly Olynyk', 'Kent Bazemore', 'Kevin Love',\n",
              "       'Kevin Porter Jr.', 'Killian Hayes', 'Kira Lewis Jr.',\n",
              "       'LaMarcus Aldridge', 'Larry Nance Jr.', 'Luke Kennard',\n",
              "       'Malachi Flynn', 'Malik Monk', 'Marc Gasol', 'Markieff Morris',\n",
              "       'Matisse Thybulle', 'Max Strus', 'Maxi Kleber', 'Mike Muscala',\n",
              "       'Mike Scott', 'Mo Bamba', 'Mychal Mulder', 'Myles Turner',\n",
              "       'Naji Marshall', 'Nickeil Alexander-Walker', 'Obi Toppin',\n",
              "       'Otto Porter Jr.', 'Patrick Beverley', 'PJ Dozier', 'R.J. Hampton',\n",
              "       'Rodney Hood', 'Sekou Doumbouya', 'Semi Ojeleye', 'Solomon Hill',\n",
              "       'Stanley Johnson', 'Sterling Brown', 'Svi Mykhailiuk',\n",
              "       'Taurean Prince', 'Terence Davis', 'Timothe Luwawu-Cabarrot',\n",
              "       'Tomas Satoransky', 'Trevor Ariza', 'Trey Burke', 'Ty Jerome',\n",
              "       'Tyler Johnson', 'Victor Oladipo', 'Wesley Matthews'], dtype='<U32')"
            ]
          },
          "metadata": {},
          "execution_count": 46
        }
      ]
    },
    {
      "cell_type": "code",
      "source": [
        "get_average_stats_for_cluster(2)"
      ],
      "metadata": {
        "colab": {
          "base_uri": "https://localhost:8080/"
        },
        "id": "8hHFlRQ0oyVT",
        "outputId": "1f87e865-df85-4e36-e0c7-c954857f572a"
      },
      "id": "8hHFlRQ0oyVT",
      "execution_count": null,
      "outputs": [
        {
          "output_type": "execute_result",
          "data": {
            "text/plain": [
              "{'2P%': 0.5197047619047618,\n",
              " '2PA': 141.23809523809524,\n",
              " '3P%': 0.3572571428571428,\n",
              " '3PA': 146.22857142857143,\n",
              " 'APG': 1.9685714285714286,\n",
              " 'AST%': 13.200000000000003,\n",
              " 'BPG': 0.3925714285714285,\n",
              " 'DRTG': 110.93047619047621,\n",
              " 'FT%': 0.7844571428571426,\n",
              " 'FTA': 55.36190476190476,\n",
              " 'GP': 45.99047619047619,\n",
              " 'MIN%': 44.740952380952386,\n",
              " 'MPG': 21.476190476190474,\n",
              " 'ORTG': 110.68095238095238,\n",
              " 'PPG': 8.257142857142862,\n",
              " 'RPG': 3.3752380952380956,\n",
              " 'SPG': 0.6744761904761905,\n",
              " 'TO%': 12.300000000000006,\n",
              " 'TOPG': 1.044190476190476,\n",
              " 'TRB%': 8.700952380952382,\n",
              " 'TS%': 0.5587428571428571,\n",
              " 'USG%': 17.657142857142862,\n",
              " 'VI': 6.854285714285715,\n",
              " 'eFG%': 0.5301142857142856}"
            ]
          },
          "metadata": {},
          "execution_count": 47
        }
      ]
    },
    {
      "cell_type": "markdown",
      "source": [
        "Cluster 3 Info:"
      ],
      "metadata": {
        "id": "OhKwygDIprHg"
      },
      "id": "OhKwygDIprHg"
    },
    {
      "cell_type": "code",
      "source": [
        "get_players_in_cluster_n(3)"
      ],
      "metadata": {
        "colab": {
          "base_uri": "https://localhost:8080/"
        },
        "id": "S98gFkSaoyeN",
        "outputId": "6ff23619-9176-4b31-b2c0-f8a89aeab1be"
      },
      "id": "S98gFkSaoyeN",
      "execution_count": null,
      "outputs": [
        {
          "output_type": "execute_result",
          "data": {
            "text/plain": [
              "array(['Bobby Portis', 'Brook Lopez', 'Caris LeVert', 'Carmelo Anthony',\n",
              "       'Chris Boucher', 'Christian Wood', 'CJ McCollum', 'Coby White',\n",
              "       'Cole Anthony', \"D'Angelo Russell\", 'Darius Bazley',\n",
              "       'Darius Garland', 'Doug McDermott', 'Eric Bledsoe',\n",
              "       'Fred VanVleet', 'Goran Dragic', 'Gordon Hayward',\n",
              "       'Harrison Barnes', 'Immanuel Quickley', 'Isaac Okoro',\n",
              "       \"Jae'Sean Tate\", 'Jalen Brunson', 'Jamal Murray', 'James Harden',\n",
              "       'Jeff Green', 'John Wall', 'Josh Jackson', 'Josh Richardson',\n",
              "       'Jrue Holiday', 'Kelly Oubre Jr.', 'Kemba Walker', 'Kendrick Nunn',\n",
              "       'Kevin Durant', 'Kevin Huerter', 'Kristaps Porzingis',\n",
              "       'Kyle Anderson', 'Kyle Kuzma', 'LaMelo Ball', 'Lonnie Walker IV',\n",
              "       'Luguentz Dort', 'Michael Porter Jr.', 'Mikal Bridges',\n",
              "       'Mike Conley', 'Miles Bridges', 'Naz Reid', 'Norman Powell',\n",
              "       'P.J. Washington', 'Reggie Jackson', 'Ricky Rubio', 'Rudy Gay',\n",
              "       'Shai Gilgeous-Alexander', 'Shake Milton', 'Terrence Ross',\n",
              "       'Theo Maledon', 'Tim Hardaway Jr.', 'Tyler Herro',\n",
              "       'Tyrese Haliburton', 'Will Barton'], dtype='<U32')"
            ]
          },
          "metadata": {},
          "execution_count": 48
        }
      ]
    },
    {
      "cell_type": "code",
      "source": [
        "get_average_stats_for_cluster(3)"
      ],
      "metadata": {
        "colab": {
          "base_uri": "https://localhost:8080/"
        },
        "id": "FNxqF-Z9oyyr",
        "outputId": "7467761f-eae9-4e9a-9e23-b598e5d67a59"
      },
      "id": "FNxqF-Z9oyyr",
      "execution_count": null,
      "outputs": [
        {
          "output_type": "execute_result",
          "data": {
            "text/plain": [
              "{'2P%': 0.5148793103448277,\n",
              " '2PA': 383.3448275862069,\n",
              " '3P%': 0.3729655172413793,\n",
              " '3PA': 282.5344827586207,\n",
              " 'APG': 3.4051724137931028,\n",
              " 'AST%': 17.410344827586204,\n",
              " 'BPG': 0.5270689655172414,\n",
              " 'DRTG': 109.28448275862068,\n",
              " 'FT%': 0.8059999999999997,\n",
              " 'FTA': 149.27586206896552,\n",
              " 'GP': 57.05172413793103,\n",
              " 'MIN%': 60.82241379310345,\n",
              " 'MPG': 29.193103448275863,\n",
              " 'ORTG': 111.70172413793107,\n",
              " 'PPG': 15.234482758620699,\n",
              " 'RPG': 4.562068965517242,\n",
              " 'SPG': 0.8974137931034485,\n",
              " 'TO%': 11.25344827586207,\n",
              " 'TOPG': 1.728620689655172,\n",
              " 'TRB%': 8.575862068965517,\n",
              " 'TS%': 0.5691724137931033,\n",
              " 'USG%': 22.26206896551724,\n",
              " 'VI': 7.989655172413792,\n",
              " 'eFG%': 0.5349310344827586}"
            ]
          },
          "metadata": {},
          "execution_count": 49
        }
      ]
    },
    {
      "cell_type": "markdown",
      "source": [
        "Cluster 4 Info:"
      ],
      "metadata": {
        "id": "6X6z44m_ptEr"
      },
      "id": "6X6z44m_ptEr"
    },
    {
      "cell_type": "code",
      "source": [
        "get_players_in_cluster_n(4)"
      ],
      "metadata": {
        "colab": {
          "base_uri": "https://localhost:8080/"
        },
        "id": "wczeibwFoy2U",
        "outputId": "31b5db96-7987-44cb-b1d6-e7b021d511de"
      },
      "id": "wczeibwFoy2U",
      "execution_count": null,
      "outputs": [
        {
          "output_type": "execute_result",
          "data": {
            "text/plain": [
              "array(['Anthony Davis', 'Bam Adebayo', 'Ben Simmons', 'Chris Paul',\n",
              "       'Clint Capela', 'Deandre Ayton', 'Dejounte Murray',\n",
              "       'Dennis Schroder', 'Domantas Sabonis', 'Dwayne Bacon',\n",
              "       'Elfrid Payton', 'Enes Kanter', 'Jimmy Butler', 'John Collins',\n",
              "       'Jonas Valanciunas', 'Kawhi Leonard', 'Keldon Johnson',\n",
              "       'LeBron James', 'Montrezl Harrell', 'Nikola Vucevic',\n",
              "       'Pascal Siakam', 'Richaun Holmes', 'Rudy Gobert', 'Rui Hachimura',\n",
              "       'Thaddeus Young', 'Tobias Harris'], dtype='<U32')"
            ]
          },
          "metadata": {},
          "execution_count": 50
        }
      ]
    },
    {
      "cell_type": "code",
      "source": [
        "get_average_stats_for_cluster(4)"
      ],
      "metadata": {
        "colab": {
          "base_uri": "https://localhost:8080/"
        },
        "id": "H-sSHBhpoy5H",
        "outputId": "72158c70-185d-4d83-a376-09c0a54883cc"
      },
      "id": "H-sSHBhpoy5H",
      "execution_count": null,
      "outputs": [
        {
          "output_type": "execute_result",
          "data": {
            "text/plain": [
              "{'2P%': 0.5607692307692308,\n",
              " '2PA': 616.7692307692307,\n",
              " '3P%': 0.27611538461538465,\n",
              " '3PA': 127.46153846153847,\n",
              " 'APG': 3.715384615384615,\n",
              " 'AST%': 18.71153846153846,\n",
              " 'BPG': 0.7634615384615386,\n",
              " 'DRTG': 105.05769230769229,\n",
              " 'FT%': 0.7668076923076925,\n",
              " 'FTA': 224.84615384615384,\n",
              " 'GP': 61.07692307692308,\n",
              " 'MIN%': 63.48076923076923,\n",
              " 'MPG': 30.473076923076917,\n",
              " 'ORTG': 117.51923076923079,\n",
              " 'PPG': 16.78846153846154,\n",
              " 'RPG': 7.9192307692307695,\n",
              " 'SPG': 0.9838461538461539,\n",
              " 'TO%': 11.557692307692308,\n",
              " 'TOPG': 1.8753846153846148,\n",
              " 'TRB%': 14.253846153846155,\n",
              " 'TS%': 0.5916923076923077,\n",
              " 'USG%': 22.780769230769224,\n",
              " 'VI': 9.542307692307691,\n",
              " 'eFG%': 0.5564230769230769}"
            ]
          },
          "metadata": {},
          "execution_count": 51
        }
      ]
    },
    {
      "cell_type": "markdown",
      "source": [
        "Cluster 5 Info:"
      ],
      "metadata": {
        "id": "Y6auyt_1puxx"
      },
      "id": "Y6auyt_1puxx"
    },
    {
      "cell_type": "code",
      "source": [
        "get_players_in_cluster_n(5)"
      ],
      "metadata": {
        "colab": {
          "base_uri": "https://localhost:8080/"
        },
        "id": "8lrWQh1hpW6D",
        "outputId": "b72c0dbf-e77a-413a-bf95-74d8db172a38"
      },
      "id": "8lrWQh1hpW6D",
      "execution_count": null,
      "outputs": [
        {
          "output_type": "execute_result",
          "data": {
            "text/plain": [
              "array(['Aaron Nesmith', 'Abdel Nader', 'Al-Farouq Aminu',\n",
              "       'Alfonzo McKinnie', 'Alize Johnson', 'Andre Roberson',\n",
              "       'Anthony Gill', 'Anthony Lamb', 'Austin Rivers', 'Avery Bradley',\n",
              "       'Ben McLemore', 'Brad Wanamaker', 'Brodric Thomas',\n",
              "       'Cameron Oliver', 'Cameron Reynolds', 'Carsen Edwards',\n",
              "       'Cassius Winston', 'Chandler Hutchison', 'Charlie Brown Jr.',\n",
              "       'Chimezie Metu', 'Chris Chiozza', 'D.J. Augustin', 'D.J. Wilson',\n",
              "       'Damian Jones', 'Daniel Gafford', 'Daniel Oturu', 'Dante Exum',\n",
              "       'DaQuan Jeffries', 'Darius Miller', 'DeMarcus Cousins',\n",
              "       'Dennis Smith Jr.', 'Devon Dotson', 'Dewayne Dedmon', 'Donta Hall',\n",
              "       'Dylan Windler', \"E'Twaun Moore\", 'Ed Davis', 'Ersan Ilyasova',\n",
              "       'Frank Mason', 'Frank Ntilikina', 'Freddie Gillespie',\n",
              "       'Gabriel Deck', 'Gary Clark', 'George Hill', 'Glenn Robinson III',\n",
              "       'Gorgui Dieng', 'Harry Giles III', 'Iman Shumpert', 'Isaac Bonga',\n",
              "       'Isaiah Hartenstein', 'Isaiah Joe', 'Isaiah Thomas',\n",
              "       'Jabari Parker', 'Jahlil Okafor', \"Jahmi'us Ramsey\",\n",
              "       'JaKarr Sampson', 'Jake Layman', 'Jalen Harris', 'Jalen Smith',\n",
              "       'James Johnson', 'Jared Dudley', 'Jaren Jackson Jr.',\n",
              "       'Jarrell Brantley', 'Jarrett Allen', 'Jarrett Culver',\n",
              "       'JaVale McGee', 'Javonte Green', 'Jaylen Hoard', 'Jeff Teague',\n",
              "       'Jerome Robinson', 'JJ Redick', 'John Konchar', 'Jordan Bone',\n",
              "       'Jordan Nwora', 'Josh Green', 'Josh Hall', 'Justin James',\n",
              "       'Justin Patton', 'Juwan Morgan', 'Karim Mane', 'Keita Bates-Diop',\n",
              "       'Kelan Martin', 'Keljin Blevins', 'Kevin Knox II', 'Khyri Thomas',\n",
              "       'Killian Tillie', 'Kostas Antetokounmpo', 'Kyle Guy', 'KZ Okpala',\n",
              "       'Lamar Stevens', 'Langston Galloway', 'Louis King', 'Luka Samanic',\n",
              "       'Luke Kornet', 'Mamadi Diakite', 'Markelle Fultz', 'Markus Howard',\n",
              "       'Marques Bolden', 'Mason Jones', 'Matthew Dellavedova',\n",
              "       'Maurice Harkless', 'Meyers Leonard', 'Mfiondu Kabengele',\n",
              "       'Mfiondu Kabengele', 'Mike James', 'Miye Oni', 'Moritz Wagner',\n",
              "       'Nassir Little', 'Nate Darling', 'Nate Hinton', 'Nathan Knight',\n",
              "       'Nemanja Bjelica', 'Nico Mannion', 'Nicolas Claxton',\n",
              "       'Nicolo Melli', 'Onyeka Okongwu', 'Oshae Brissett', 'P.J. Tucker',\n",
              "       'Patrick Patterson', 'Paul Reed', 'Paul Watson',\n",
              "       'Quinndary Weatherspoon', 'Rajon Rondo', 'Rayjon Tucker',\n",
              "       'Reggie Perry', 'Rodney McGruder', 'Romeo Langford',\n",
              "       'Rondae Hollis-Jefferson', 'Ryan Arcidiacono',\n",
              "       'Shaquille Harrison', 'Sindarius Thornwell', 'Skylar Mays',\n",
              "       'T.J. Warren', 'Tacko Fall', 'Taj Gibson',\n",
              "       'Thanasis Antetokounmpo', 'Thomas Bryant', 'Tony Bradley',\n",
              "       'Tony Snell', 'Torrey Craig', 'Tre Jones', 'Tremont Waters',\n",
              "       'Trent Forrest', 'Trey Lyles', 'Troy Brown Jr.', 'Troy Brown Jr.',\n",
              "       'Tyler Cook', 'Wenyen Gabriel', 'Wes Iwundu', 'Yogi Ferrell',\n",
              "       'Yuta Watanabe'], dtype='<U32')"
            ]
          },
          "metadata": {},
          "execution_count": 52
        }
      ]
    },
    {
      "cell_type": "code",
      "source": [
        "get_average_stats_for_cluster(5)"
      ],
      "metadata": {
        "colab": {
          "base_uri": "https://localhost:8080/"
        },
        "id": "77-n5x0FpXCn",
        "outputId": "12902e0d-1a4a-44b0-ded3-75b6653ce143"
      },
      "id": "77-n5x0FpXCn",
      "execution_count": null,
      "outputs": [
        {
          "output_type": "execute_result",
          "data": {
            "text/plain": [
              "{'2P%': 0.5328079470198674,\n",
              " '2PA': 57.788079470198674,\n",
              " '3P%': 0.29833774834437093,\n",
              " '3PA': 37.90728476821192,\n",
              " 'APG': 1.152980132450332,\n",
              " 'AST%': 11.340397350993376,\n",
              " 'BPG': 0.3451655629139074,\n",
              " 'DRTG': 112.04701986754964,\n",
              " 'FT%': 0.7583576158940397,\n",
              " 'FTA': 24.172185430463575,\n",
              " 'GP': 25.165562913907284,\n",
              " 'MIN%': 30.189403973509936,\n",
              " 'MPG': 14.495364238410582,\n",
              " 'ORTG': 113.90596026490068,\n",
              " 'PPG': 5.273509933774832,\n",
              " 'RPG': 2.7066225165562914,\n",
              " 'SPG': 0.4535761589403976,\n",
              " 'TO%': 13.52450331125828,\n",
              " 'TOPG': 0.690662251655629,\n",
              " 'TRB%': 10.796688741721857,\n",
              " 'TS%': 0.5677947019867546,\n",
              " 'USG%': 17.501324503311253,\n",
              " 'VI': 6.731125827814572,\n",
              " 'eFG%': 0.5350596026490063}"
            ]
          },
          "metadata": {},
          "execution_count": 53
        }
      ]
    },
    {
      "cell_type": "markdown",
      "source": [
        "Cluster 6 Info:"
      ],
      "metadata": {
        "id": "qEtoftMcpwuQ"
      },
      "id": "qEtoftMcpwuQ"
    },
    {
      "cell_type": "code",
      "source": [
        "get_players_in_cluster_n(6)"
      ],
      "metadata": {
        "colab": {
          "base_uri": "https://localhost:8080/"
        },
        "id": "H28uFe8-pXG0",
        "outputId": "ba9e0d56-bf9c-4f61-c050-c014136d5459"
      },
      "id": "H28uFe8-pXG0",
      "execution_count": null,
      "outputs": [
        {
          "output_type": "execute_result",
          "data": {
            "text/plain": [
              "array(['Alec Burks', 'Anfernee Simons', 'Bogdan Bogdanovic',\n",
              "       'Bryn Forbes', 'Buddy Hield', 'Cameron Johnson', 'Cedi Osman',\n",
              "       'Danilo Gallinari', 'Danny Green', 'Davis Bertans',\n",
              "       'Derrick White', 'Desmond Bane', \"Devonte' Graham\",\n",
              "       'Donte DiVincenzo', 'Dorian Finney-Smith', 'Duncan Robinson',\n",
              "       'Furkan Korkmaz', 'Gary Trent Jr.', 'Georges Niang',\n",
              "       'Grayson Allen', 'Jae Crowder', 'Joe Harris', 'Joe Ingles',\n",
              "       'Jordan Poole', 'Justin Holiday', 'Kentavious Caldwell-Pope',\n",
              "       'Kyle Lowry', 'Landry Shamet', 'Lauri Markkanen', 'Lonzo Ball',\n",
              "       'Malik Beasley', 'Marcus Morris Sr.', 'Marcus Smart',\n",
              "       'Nicolas Batum', 'OG Anunoby', 'Pat Connaughton', 'Patty Mills',\n",
              "       'Payton Pritchard', 'Reggie Bullock', 'Robert Covington',\n",
              "       \"Royce O'Neale\", 'Saddiq Bey', 'Seth Curry', 'Wayne Ellington'],\n",
              "      dtype='<U32')"
            ]
          },
          "metadata": {},
          "execution_count": 54
        }
      ]
    },
    {
      "cell_type": "code",
      "source": [
        "get_average_stats_for_cluster(6)"
      ],
      "metadata": {
        "colab": {
          "base_uri": "https://localhost:8080/"
        },
        "id": "GY_UYLWppXJj",
        "outputId": "6e5f082c-c8b9-4e94-9378-1dac3b9e0930"
      },
      "id": "GY_UYLWppXJj",
      "execution_count": null,
      "outputs": [
        {
          "output_type": "execute_result",
          "data": {
            "text/plain": [
              "{'2P%': 0.4981818181818181,\n",
              " '2PA': 187.9318181818182,\n",
              " '3P%': 0.3980681818181818,\n",
              " '3PA': 345.04545454545456,\n",
              " 'APG': 2.329545454545455,\n",
              " 'AST%': 11.947727272727276,\n",
              " 'BPG': 0.31704545454545446,\n",
              " 'DRTG': 108.76363636363635,\n",
              " 'FT%': 0.8304545454545454,\n",
              " 'FTA': 83.18181818181819,\n",
              " 'GP': 59.13636363636363,\n",
              " 'MIN%': 56.27954545454547,\n",
              " 'MPG': 27.015909090909076,\n",
              " 'ORTG': 114.99545454545455,\n",
              " 'PPG': 11.622727272727275,\n",
              " 'RPG': 3.6772727272727277,\n",
              " 'SPG': 0.8075000000000002,\n",
              " 'TO%': 9.806818181818183,\n",
              " 'TOPG': 1.0911363636363633,\n",
              " 'TRB%': 7.365909090909091,\n",
              " 'TS%': 0.5867954545454547,\n",
              " 'USG%': 17.675000000000004,\n",
              " 'VI': 6.515909090909091,\n",
              " 'eFG%': 0.5615227272727272}"
            ]
          },
          "metadata": {},
          "execution_count": 55
        }
      ]
    },
    {
      "cell_type": "markdown",
      "source": [
        "Cluster 7 Info:"
      ],
      "metadata": {
        "id": "C2HDRRenpyXE"
      },
      "id": "C2HDRRenpyXE"
    },
    {
      "cell_type": "code",
      "source": [
        "get_players_in_cluster_n(7)"
      ],
      "metadata": {
        "colab": {
          "base_uri": "https://localhost:8080/"
        },
        "id": "C7Xa9-4upY49",
        "outputId": "5089d4a1-73a5-4e71-c48d-445e296cd5e6"
      },
      "id": "C7Xa9-4upY49",
      "execution_count": null,
      "outputs": [
        {
          "output_type": "execute_result",
          "data": {
            "text/plain": [
              "array(['Bradley Beal', 'Collin Sexton', \"De'Aaron Fox\", 'DeMar DeRozan',\n",
              "       'Devin Booker', 'Giannis Antetokounmpo', 'Ja Morant',\n",
              "       'Joel Embiid', 'Julius Randle', 'Nikola Jokic',\n",
              "       'Russell Westbrook', 'Trae Young', 'Zion Williamson'], dtype='<U32')"
            ]
          },
          "metadata": {},
          "execution_count": 56
        }
      ]
    },
    {
      "cell_type": "code",
      "source": [
        "get_average_stats_for_cluster(7)"
      ],
      "metadata": {
        "colab": {
          "base_uri": "https://localhost:8080/"
        },
        "id": "vaiv4Q8QpZCY",
        "outputId": "4ea4ce59-1093-48a8-fbc8-bd01b7800de2"
      },
      "id": "vaiv4Q8QpZCY",
      "execution_count": null,
      "outputs": [
        {
          "output_type": "execute_result",
          "data": {
            "text/plain": [
              "{'2P%': 0.5372307692307692,\n",
              " '2PA': 878.0,\n",
              " '3P%': 0.33638461538461534,\n",
              " '3PA': 257.53846153846155,\n",
              " 'APG': 6.338461538461539,\n",
              " 'AST%': 29.930769230769233,\n",
              " 'BPG': 0.4884615384615384,\n",
              " 'DRTG': 107.66153846153846,\n",
              " 'FT%': 0.797,\n",
              " 'FTA': 454.0769230769231,\n",
              " 'GP': 62.53846153846154,\n",
              " 'MIN%': 71.44615384615385,\n",
              " 'MPG': 34.30769230769231,\n",
              " 'ORTG': 115.58461538461539,\n",
              " 'PPG': 25.284615384615385,\n",
              " 'RPG': 6.830769230769231,\n",
              " 'SPG': 1.0623076923076924,\n",
              " 'TO%': 13.038461538461537,\n",
              " 'TOPG': 3.216153846153846,\n",
              " 'TRB%': 10.861538461538462,\n",
              " 'TS%': 0.5904615384615386,\n",
              " 'USG%': 30.815384615384623,\n",
              " 'VI': 11.484615384615385,\n",
              " 'eFG%': 0.5346923076923077}"
            ]
          },
          "metadata": {},
          "execution_count": 57
        }
      ]
    },
    {
      "cell_type": "markdown",
      "source": [
        "#CLASSIFICATION"
      ],
      "metadata": {
        "id": "85TRrEZCovKq"
      },
      "id": "85TRrEZCovKq"
    },
    {
      "cell_type": "markdown",
      "source": [
        "Split the data into test set and train set, with the random_state 4400"
      ],
      "metadata": {
        "id": "oo9EOVyJi1SE"
      },
      "id": "oo9EOVyJi1SE"
    },
    {
      "cell_type": "code",
      "execution_count": null,
      "id": "Gu5ehXQxhKgO",
      "metadata": {
        "id": "Gu5ehXQxhKgO"
      },
      "outputs": [],
      "source": [
        "from sklearn.model_selection import train_test_split\n",
        "\n",
        "X_train, X_test, y_train, y_test = train_test_split(data, labels, random_state = 4400)"
      ]
    },
    {
      "cell_type": "markdown",
      "source": [
        "Preprocess the data by using standardscaler, this will be tested later."
      ],
      "metadata": {
        "id": "kIpcbolijF87"
      },
      "id": "kIpcbolijF87"
    },
    {
      "cell_type": "code",
      "execution_count": null,
      "id": "B7u9Z3EKhKgP",
      "metadata": {
        "id": "B7u9Z3EKhKgP"
      },
      "outputs": [],
      "source": [
        "from sklearn.preprocessing import StandardScaler\n",
        "scaler = StandardScaler()\n",
        "scaler.fit(X_train)\n",
        "X_train_scaled = scaler.transform(X_train)\n",
        "X_test_scaled = scaler.transform(X_test)\n"
      ]
    },
    {
      "cell_type": "markdown",
      "source": [
        "Define the estimator model to use."
      ],
      "metadata": {
        "id": "zPimbNWVjkBu"
      },
      "id": "zPimbNWVjkBu"
    },
    {
      "cell_type": "code",
      "execution_count": null,
      "id": "-FcsPvjUhKgP",
      "metadata": {
        "id": "-FcsPvjUhKgP"
      },
      "outputs": [],
      "source": [
        "from sklearn.svm import SVC\n",
        "from sklearn.ensemble import RandomForestClassifier\n",
        "from sklearn.linear_model import LogisticRegression\n",
        "\n",
        "estimators = {\n",
        "    \"SVM classifier\" : SVC(),\n",
        "    \"Random Forest Classifier\" : RandomForestClassifier(),\n",
        "    \"Logistic Regression\": LogisticRegression(max_iter=20000)\n",
        "}"
      ]
    },
    {
      "cell_type": "markdown",
      "source": [
        "Do basic fitting and evaluate this using the test set."
      ],
      "metadata": {
        "id": "oYPaEJ9RjoBP"
      },
      "id": "oYPaEJ9RjoBP"
    },
    {
      "cell_type": "code",
      "execution_count": null,
      "id": "bJet_kcShKgP",
      "metadata": {
        "colab": {
          "base_uri": "https://localhost:8080/"
        },
        "id": "bJet_kcShKgP",
        "outputId": "055941ec-c359-4dea-8da5-442f5f510a38"
      },
      "outputs": [
        {
          "output_type": "stream",
          "name": "stdout",
          "text": [
            "SVM classifier:\n",
            "\tR-squared value for training set:  0.9229171523237018\n",
            "\tR-squared value for testing set:  0.920073266172675\n",
            "\tMSE value for training set:  0.3165266106442577\n",
            "\tMSE value for testing set:  0.26666666666666666\n",
            "\n",
            "Random Forest Classifier:\n",
            "\tR-squared value for training set:  1.0\n",
            "\tR-squared value for testing set:  0.6752976438264924\n",
            "\tMSE value for training set:  0.0\n",
            "\tMSE value for testing set:  1.0833333333333333\n",
            "\n",
            "Logistic Regression:\n",
            "\tR-squared value for training set:  1.0\n",
            "\tR-squared value for testing set:  0.9075847140121556\n",
            "\tMSE value for training set:  0.0\n",
            "\tMSE value for testing set:  0.30833333333333335\n",
            "\n"
          ]
        }
      ],
      "source": [
        "from sklearn.metrics import r2_score\n",
        "from sklearn.metrics import mean_squared_error\n",
        "\n",
        "def regressors_percentage_split():\n",
        "    for estimator_name, estimator_obj in estimators.items():\n",
        "        model = estimator_obj.fit(X=X_train,y=y_train)\n",
        "        \n",
        "        print(estimator_name + \":\")\n",
        "        print(\"\\tR-squared value for training set: \", r2_score(y_train, model.predict(X_train)))   \n",
        "        print(\"\\tR-squared value for testing set: \", r2_score(y_test, model.predict(X_test)))\n",
        "        print(\"\\tMSE value for training set: \", mean_squared_error(y_train, model.predict(X_train)))   \n",
        "        print(\"\\tMSE value for testing set: \", mean_squared_error(y_test, model.predict(X_test)))\n",
        "        print(\"\")\n",
        "\n",
        "regressors_percentage_split()    "
      ]
    },
    {
      "cell_type": "markdown",
      "source": [
        "Try a fit wil preprocessed data, as the results look bad, we will not use this in the future."
      ],
      "metadata": {
        "id": "alnikKRqjm-X"
      },
      "id": "alnikKRqjm-X"
    },
    {
      "cell_type": "code",
      "execution_count": null,
      "id": "DIyP076QhKgP",
      "metadata": {
        "colab": {
          "base_uri": "https://localhost:8080/"
        },
        "id": "DIyP076QhKgP",
        "outputId": "c93e50bc-0838-4a9e-b7ee-d8fb095a512b"
      },
      "outputs": [
        {
          "output_type": "stream",
          "name": "stdout",
          "text": [
            "SVM classifier:\n",
            "\tR-squared value for training set:  0.7919445261834427\n",
            "\tR-squared value for testing set:  0.4355174423445175\n",
            "\tMSE value for training set:  0.8543417366946778\n",
            "\tMSE value for testing set:  1.8833333333333333\n",
            "\n",
            "Random Forest Classifier:\n",
            "\tR-squared value for training set:  1.0\n",
            "\tR-squared value for testing set:  0.7002747481475314\n",
            "\tMSE value for training set:  0.0\n",
            "\tMSE value for testing set:  1.0\n",
            "\n",
            "Logistic Regression:\n",
            "\tR-squared value for training set:  0.912684915906494\n",
            "\tR-squared value for testing set:  0.5703938056781284\n",
            "\tMSE value for training set:  0.3585434173669468\n",
            "\tMSE value for testing set:  1.4333333333333333\n",
            "\n"
          ]
        }
      ],
      "source": [
        "for estimator_name, estimator_obj in estimators.items():\n",
        "        model = estimator_obj.fit(X=X_train_scaled,y=y_train)\n",
        "        \n",
        "        print(estimator_name + \":\")\n",
        "        print(\"\\tR-squared value for training set: \", r2_score(y_train, model.predict(X_train_scaled)))   \n",
        "        print(\"\\tR-squared value for testing set: \", r2_score(y_test, model.predict(X_test_scaled)))\n",
        "        print(\"\\tMSE value for training set: \", mean_squared_error(y_train, model.predict(X_train_scaled)))   \n",
        "        print(\"\\tMSE value for testing set: \", mean_squared_error(y_test, model.predict(X_test_scaled)))\n",
        "        print(\"\")"
      ]
    },
    {
      "cell_type": "markdown",
      "source": [
        "From the above mertic, logistic regression will be choosed for hyperprameter tuning. This code block focused on such process."
      ],
      "metadata": {
        "id": "87ed21h7j3I4"
      },
      "id": "87ed21h7j3I4"
    },
    {
      "cell_type": "code",
      "execution_count": null,
      "id": "HkvjU4Brj4AN",
      "metadata": {
        "colab": {
          "base_uri": "https://localhost:8080/"
        },
        "id": "HkvjU4Brj4AN",
        "outputId": "0bbf66f6-e79a-422d-8a91-ae3a2db69bbd"
      },
      "outputs": [
        {
          "output_type": "stream",
          "name": "stderr",
          "text": [
            "/usr/local/lib/python3.7/dist-packages/sklearn/linear_model/_logistic.py:818: ConvergenceWarning: lbfgs failed to converge (status=1):\n",
            "STOP: TOTAL NO. of f AND g EVALUATIONS EXCEEDS LIMIT.\n",
            "\n",
            "Increase the number of iterations (max_iter) or scale the data as shown in:\n",
            "    https://scikit-learn.org/stable/modules/preprocessing.html\n",
            "Please also refer to the documentation for alternative solver options:\n",
            "    https://scikit-learn.org/stable/modules/linear_model.html#logistic-regression\n",
            "  extra_warning_msg=_LOGISTIC_SOLVER_CONVERGENCE_MSG,\n"
          ]
        },
        {
          "output_type": "stream",
          "name": "stdout",
          "text": [
            "Best cross-validation score:  0.9804381846635367\n",
            "Best parameters:  {'C': 0.1}\n",
            "Training set score with best parameters:  1.0\n",
            "Test set score with best parameters:  0.9583333333333334\n"
          ]
        }
      ],
      "source": [
        "from sklearn.model_selection import GridSearchCV\n",
        "from sklearn.model_selection import KFold\n",
        "\n",
        "def grid_search_RFR():\n",
        "    pram_grid = {\"C\":[0.01, 0.1, 1]}\n",
        "    kfold = KFold(n_splits = 5, random_state = 2000, shuffle = True)\n",
        "    \n",
        "    grid_search = GridSearchCV(LogisticRegression(max_iter=20000), pram_grid, cv=kfold)\n",
        "    \n",
        "    grid_search.fit(X=X_train, y=y_train)\n",
        "    \n",
        "    print(\"Best cross-validation score: \", grid_search.best_score_)\n",
        "    print(\"Best parameters: \", grid_search.best_params_)\n",
        "    print(\"Training set score with best parameters: \", grid_search.score(X_train, y_train))\n",
        "    print(\"Test set score with best parameters: \", grid_search.score(X_test, y_test))\n",
        "    \n",
        "    return grid_search.best_params_\n",
        "\n",
        "best_set = grid_search_RFR()"
      ]
    },
    {
      "cell_type": "code",
      "execution_count": null,
      "id": "8MfdWK42mODD",
      "metadata": {
        "id": "8MfdWK42mODD"
      },
      "outputs": [],
      "source": [
        ""
      ]
    }
  ],
  "metadata": {
    "colab": {
      "name": "NBA_Classification_Project.ipynb",
      "provenance": [],
      "collapsed_sections": []
    },
    "kernelspec": {
      "display_name": "Python 3 (ipykernel)",
      "language": "python",
      "name": "python3"
    },
    "language_info": {
      "codemirror_mode": {
        "name": "ipython",
        "version": 3
      },
      "file_extension": ".py",
      "mimetype": "text/x-python",
      "name": "python",
      "nbconvert_exporter": "python",
      "pygments_lexer": "ipython3",
      "version": "3.9.7"
    }
  },
  "nbformat": 4,
  "nbformat_minor": 5
}